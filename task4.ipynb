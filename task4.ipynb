{
  "metadata": {
    "kernelspec": {
      "name": "python",
      "display_name": "Python (Pyodide)",
      "language": "python"
    },
    "language_info": {
      "codemirror_mode": {
        "name": "python",
        "version": 3
      },
      "file_extension": ".py",
      "mimetype": "text/x-python",
      "name": "python",
      "nbconvert_exporter": "python",
      "pygments_lexer": "ipython3",
      "version": "3.8"
    }
  },
  "nbformat_minor": 5,
  "nbformat": 4,
  "cells": [
    {
      "id": "08455ab6-b496-47f8-ab10-d38657fa99ff",
      "cell_type": "code",
      "source": "# 1. Import libraries\nimport pandas as pd\nfrom sklearn.model_selection import train_test_split\nfrom sklearn.feature_extraction.text import TfidfVectorizer\nfrom sklearn.naive_bayes import MultinomialNB\nfrom sklearn.metrics import classification_report, accuracy_score\n\n# 2. Load dataset\n# Dataset link: https://www.kaggle.com/datasets/uciml/sms-spam-collection-dataset\ndata = pd.read_csv(\"spam.csv\", encoding='latin-1')[[\"v1\", \"v2\"]]\ndata.columns = [\"label\", \"text\"]\ndata['label'] = data['label'].map({'ham': 0, 'spam': 1})\n\n# 3. Preprocess text and split data\nX = data['text']\ny = data['label']\n\nX_train, X_test, y_train, y_test = train_test_split(X, y, test_size=0.2, random_state=42)\n\n# 4. Vectorize text using TF-IDF\nvectorizer = TfidfVectorizer(stop_words='english')\nX_train_vec = vectorizer.fit_transform(X_train)\nX_test_vec = vectorizer.transform(X_test)\n\n# 5. Train a classifier\nmodel = MultinomialNB()\nmodel.fit(X_train_vec, y_train)\n\n# 6. Evaluate the model\ny_pred = model.predict(X_test_vec)\nprint(\"Accuracy:\", accuracy_score(y_test, y_pred))\nprint(\"Classification Report:\\n\", classification_report(y_test, y_pred))\n\n# 7. Predict on new input\nsample_msgs = [\"Congratulations! You've won a $1000 Walmart gift card.\", \n               \"Hey, are we still on for lunch tomorrow?\"]\nsample_vec = vectorizer.transform(sample_msgs)\npredictions = model.predict(sample_vec)\n\nfor msg, label in zip(sample_msgs, predictions):\n    print(f\">> '{msg}' → {'Spam' if label else 'Ham'}\")\n",
      "metadata": {
        "trusted": true
      },
      "outputs": [
        {
          "name": "stdout",
          "output_type": "stream",
          "text": "Accuracy: 0.9659192825112107\nClassification Report:\n               precision    recall  f1-score   support\n\n           0       0.96      1.00      0.98       965\n           1       1.00      0.75      0.85       150\n\n    accuracy                           0.97      1115\n   macro avg       0.98      0.87      0.92      1115\nweighted avg       0.97      0.97      0.96      1115\n\n>> 'Congratulations! You've won a $1000 Walmart gift card.' → Ham\n>> 'Hey, are we still on for lunch tomorrow?' → Ham\n"
        }
      ],
      "execution_count": 9
    },
    {
      "id": "137c063c-8bee-44ac-bb77-fdbe4c72141f",
      "cell_type": "code",
      "source": "",
      "metadata": {
        "trusted": true
      },
      "outputs": [],
      "execution_count": null
    },
    {
      "id": "adc93cd3-3f6c-47cc-a17a-7c70cbcc12ed",
      "cell_type": "code",
      "source": "",
      "metadata": {
        "trusted": true
      },
      "outputs": [],
      "execution_count": null
    }
  ]
}